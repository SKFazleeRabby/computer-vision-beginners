{
 "cells": [
  {
   "cell_type": "markdown",
   "metadata": {},
   "source": [
    "# Cat vs Dog Recognition from Images using Deep Learning, Keras and Microsoft Kaggle Dataset\n",
    "\n",
    "## Part 1: Preparing the Data for Training Neural Network\n",
    "For this project, we will be using Cat and Dog image datasets from the Microsoft Kaggle inventory.<br>\n",
    "Download Link: https://www.microsoft.com/en-us/download/confirmation.aspx?id=54765"
   ]
  },
  {
   "cell_type": "markdown",
   "metadata": {},
   "source": [
    "### Importing Libraries\n",
    "You might need to install OpenCV in your machine if its not available. You can run \"pip install opencv-python\" to install it in your machine"
   ]
  },
  {
   "cell_type": "code",
   "execution_count": 12,
   "metadata": {},
   "outputs": [],
   "source": [
    "import numpy as np\n",
    "import matplotlib.pyplot as plt\n",
    "import os\n",
    "import cv2\n",
    "import random\n",
    "import pickle"
   ]
  },
  {
   "cell_type": "code",
   "execution_count": 3,
   "metadata": {},
   "outputs": [],
   "source": [
    "DATADIR = \"F:\\Computer Vision\\Cat and Dog Recognition using Deep Learning and Kaggle Datasets\\images\"\n",
    "IMG_SIZE = 50"
   ]
  },
  {
   "cell_type": "markdown",
   "metadata": {},
   "source": [
    "### Reading the Images from Folders and Storing Them in Datasets Array"
   ]
  },
  {
   "cell_type": "code",
   "execution_count": 4,
   "metadata": {},
   "outputs": [],
   "source": [
    "class_labels = []\n",
    "datasets = []\n",
    "\n",
    "for class_name in os.listdir(DATADIR):\n",
    "    class_labels.append(class_name)\n",
    "    class_num = class_labels.index(class_name)\n",
    "    \n",
    "    for image in os.listdir(os.path.join(DATADIR, class_name)):\n",
    "        try:\n",
    "            image_data = cv2.imread(os.path.join(DATADIR, class_name, image), cv2.IMREAD_GRAYSCALE)\n",
    "            resized_image = cv2.resize(image_data, (IMG_SIZE, IMG_SIZE))\n",
    "            datasets.append([resized_image, class_num])\n",
    "        except Exception as e:\n",
    "            pass\n",
    "        "
   ]
  },
  {
   "cell_type": "markdown",
   "metadata": {},
   "source": [
    "### Shuffling Datasets\n",
    "We need to shuffle the datasets as while reading the images, we are reading all the dogs image at first and then reading all the cat images. So, in order to train our neural network properly, we need to shuffle the images for better results."
   ]
  },
  {
   "cell_type": "code",
   "execution_count": 9,
   "metadata": {},
   "outputs": [],
   "source": [
    "random.shuffle(datasets)"
   ]
  },
  {
   "cell_type": "markdown",
   "metadata": {},
   "source": [
    "### Separating Features and Labels in Seperate Arrays"
   ]
  },
  {
   "cell_type": "code",
   "execution_count": 10,
   "metadata": {},
   "outputs": [],
   "source": [
    "X = []\n",
    "y = []\n",
    "\n",
    "for features,label in datasets:\n",
    "    X.append(features)\n",
    "    y.append(label)"
   ]
  },
  {
   "cell_type": "markdown",
   "metadata": {},
   "source": [
    "### Converting Features to Numpy Array and Reshaping for Feeding into Convolutional Layer "
   ]
  },
  {
   "cell_type": "code",
   "execution_count": 11,
   "metadata": {},
   "outputs": [],
   "source": [
    "X = np.array(X).reshape(-1, IMG_SIZE, IMG_SIZE, 1)"
   ]
  },
  {
   "cell_type": "markdown",
   "metadata": {},
   "source": [
    "### Saving the Features and Labels in File for Further Training of the Neural Network\n",
    "We will save the features and labels in separate files so that we don't need to prepare our datasets everytime we need to run training codes"
   ]
  },
  {
   "cell_type": "code",
   "execution_count": 13,
   "metadata": {},
   "outputs": [],
   "source": [
    "output_file = open(\"features.pickle\", \"wb\")\n",
    "pickle.dump(X, output_file)\n",
    "output_file.close()\n",
    "\n",
    "output_file = open(\"labels.pickle\", \"wb\")\n",
    "pickle.dump(y, output_file)\n",
    "output_file.close()"
   ]
  }
 ],
 "metadata": {
  "kernelspec": {
   "display_name": "Python 3",
   "language": "python",
   "name": "python3"
  },
  "language_info": {
   "codemirror_mode": {
    "name": "ipython",
    "version": 3
   },
   "file_extension": ".py",
   "mimetype": "text/x-python",
   "name": "python",
   "nbconvert_exporter": "python",
   "pygments_lexer": "ipython3",
   "version": "3.8.5"
  }
 },
 "nbformat": 4,
 "nbformat_minor": 4
}
