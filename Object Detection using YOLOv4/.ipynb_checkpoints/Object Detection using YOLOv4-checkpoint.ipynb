{
 "cells": [
  {
   "cell_type": "markdown",
   "metadata": {},
   "source": [
    "## Installing YOLOv4/Darknet\n",
    "============================================="
   ]
  },
  {
   "cell_type": "markdown",
   "metadata": {},
   "source": [
    "### Step 1: Install the Prerequisite"
   ]
  },
  {
   "cell_type": "markdown",
   "metadata": {},
   "source": [
    "1. **CMake:** Download and Install Cmake from the Link. [[https://cmake.org/download/](https://cmake.org/download/)]\n",
    "2. **CUDA:** Download and Install CUDA from the Link. [[https://developer.nvidia.com/cuda-downloads](https://developer.nvidia.com/cuda-downloads)]\n",
    "3. **cuDNN:** Download and Install cuDNN from the Link. [[https://developer.nvidia.com/cudnn-download-survey](https://developer.nvidia.com/cudnn-download-survey)]\n",
    "4. **OpenCV:** Run `pip install opencv-python` and Install OpenCV\n",
    "5. **Visual Studio Community Edition:** Download Visual Studio from the Link and Install [[Microsoft Visual Studio Community Edition]](https://visualstudio.microsoft.com/thank-you-downloading-visual-studio/?sku=Community&rel=16)\n",
    "    - While installing, Make Sure you choose **_Desktop Development with C++_** under the **Workloads** tab\n",
    "6. **Powershell Command:** Open Powershell and execute the following command `Set-ExecutionPolicy unrestricted -Scope CurrentUser -Force`"
   ]
  },
  {
   "cell_type": "markdown",
   "metadata": {},
   "source": [
    "### Step 2: Preparation for Installing Darknet"
   ]
  },
  {
   "cell_type": "markdown",
   "metadata": {},
   "source": [
    "1. Open `install_darknet.py` in your favorite editor.\n",
    "2. Find `VIRTUAL_ENV` and replace the value depending on your environment.\n",
    "    - If you are using a Virtual Environment, set the **name of the environment** as the value of `VIRTUAL_ENV`\n",
    "    - If you are not using any virtual environment, left the value of `VIRTUAL_ENV` blank"
   ]
  },
  {
   "cell_type": "markdown",
   "metadata": {},
   "source": [
    "### Step 3: Installing Darknet"
   ]
  },
  {
   "cell_type": "markdown",
   "metadata": {},
   "source": [
    "Go into the project directory and open powershell in the current folder. Now run `python install_darknet.py` to start installing darknet. As the installation may take a long time (1-2 hours), please don't panic and stop the execution of the script."
   ]
  },
  {
   "cell_type": "markdown",
   "metadata": {},
   "source": [
    "### Step 4: Removing the Garbage Files"
   ]
  },
  {
   "cell_type": "markdown",
   "metadata": {},
   "source": [
    "After successfully installing the Darknet, Please check the followings:\n",
    "\n",
    "1. Your project directory should contain `darknet` folders inside.\n",
    "2. Start powershell in the project directory and run `python` to start interactive shell. Then try to import darknet using `import darknet`. If you don't see any error, Your installation is successful.\n",
    "\n",
    "After successful running of the script, you will see a Windows explorer pop up from where delete the **darknet** folder.\n",
    "\n",
    "**Congratulations, You can now use Darknet in your Projects**"
   ]
  },
  {
   "cell_type": "code",
   "execution_count": null,
   "metadata": {},
   "outputs": [],
   "source": []
  }
 ],
 "metadata": {
  "kernelspec": {
   "display_name": "Python 3",
   "language": "python",
   "name": "python3"
  },
  "language_info": {
   "codemirror_mode": {
    "name": "ipython",
    "version": 3
   },
   "file_extension": ".py",
   "mimetype": "text/x-python",
   "name": "python",
   "nbconvert_exporter": "python",
   "pygments_lexer": "ipython3",
   "version": "3.8.5"
  }
 },
 "nbformat": 4,
 "nbformat_minor": 4
}
