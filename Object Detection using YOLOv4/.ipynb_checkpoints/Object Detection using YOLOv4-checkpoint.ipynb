{
 "cells": [
  {
   "cell_type": "markdown",
   "metadata": {},
   "source": [
    "## Installing YOLOv4/Darknet\n",
    "============================================="
   ]
  },
  {
   "cell_type": "markdown",
   "metadata": {},
   "source": [
    "### Step 1: Install the Prerequisite"
   ]
  },
  {
   "cell_type": "markdown",
   "metadata": {},
   "source": [
    "1. **CMake:** Download and Install Cmake from the Link. [[https://cmake.org/download/](https://cmake.org/download/)]\n",
    "2. **CUDA:** Download and Install CUDA from the Link. [[https://developer.nvidia.com/cuda-downloads](https://developer.nvidia.com/cuda-downloads)]\n",
    "3. **cuDNN:** Download and Install cuDNN from the Link. [[https://developer.nvidia.com/cudnn-download-survey](https://developer.nvidia.com/cudnn-download-survey)]\n",
    "4. **OpenCV:** Run `pip install opencv-python` and Install OpenCV\n",
    "5. **Visual Studio Community Edition:** Download Visual Studio from the Link and Install [[Microsoft Visual Studio Community Edition]](https://visualstudio.microsoft.com/thank-you-downloading-visual-studio/?sku=Community&rel=16)\n",
    "    - While installing, Make Sure you choose **_Desktop Development with C++_** under the **Workloads** tab\n",
    "6. **Powershell Command:** Open Powershell and execute the following command `Set-ExecutionPolicy unrestricted -Scope CurrentUser -Force`"
   ]
  },
  {
   "cell_type": "markdown",
   "metadata": {},
   "source": [
    "### Step 2: Preparation for Installing Darknet"
   ]
  },
  {
   "cell_type": "markdown",
   "metadata": {},
   "source": [
    "1. Open `install_darknet.py` in your favorite editor.\n",
    "2. Find `VIRTUAL_ENV` and replace the value depending on your environment.\n",
    "    - If you are using a Virtual Environment, set the **name of the environment** as the value of `VIRTUAL_ENV`\n",
    "    - If you are not using any virtual environment, left the value of `VIRTUAL_ENV` blank"
   ]
  },
  {
   "cell_type": "markdown",
   "metadata": {},
   "source": [
    "### Step 3: Installing Darknet"
   ]
  },
  {
   "cell_type": "markdown",
   "metadata": {},
   "source": [
    "Go into the project directory and open powershell in the current folder. Now run `python install_darknet.py` to start installing darknet. As the installation may take a long time (1-2 hours), please don't panic and stop the execution of the script."
   ]
  },
  {
   "cell_type": "markdown",
   "metadata": {},
   "source": [
    "### Step 4: Removing the Garbage Files"
   ]
  },
  {
   "cell_type": "markdown",
   "metadata": {},
   "source": [
    "After successfully installing the Darknet, Please check the followings:\n",
    "\n",
    "1. Your project directory should contain `darknet` folders inside.\n",
    "2. Start powershell in the project directory and run `python` to start interactive shell. Then try to import darknet using `import darknet`. If you don't see any error, Your installation is successful.\n",
    "\n",
    "After successful running of the script, you will see a Windows explorer pop up from where delete the **darknet** folder.\n",
    "\n",
    "**Congratulations, You can now use Darknet in your Projects**"
   ]
  },
  {
   "cell_type": "markdown",
   "metadata": {},
   "source": [
    "## Detecting Objects Using Pre-Trained Model\n",
    "==============================================================="
   ]
  },
  {
   "cell_type": "markdown",
   "metadata": {},
   "source": [
    "1. Download Pre-Trained Configuration File From This Link: [https://raw.githubusercontent.com/AlexeyAB/darknet/master/cfg/yolov4.cfg](https://raw.githubusercontent.com/AlexeyAB/darknet/master/cfg/yolov4.cfg)\n",
    "2. Put the Configuration File in the **`darknet\\cfg`** Directory.\n",
    "3. Download Pre-Trained Weights File from This Link: [https://github.com/AlexeyAB/darknet/releases/download/darknet_yolo_v3_optimal/yolov4.weights](https://github.com/AlexeyAB/darknet/releases/download/darknet_yolo_v3_optimal/yolov4.weights)\n",
    "4. Put the Weights File in the **`darknet\\`** Directory"
   ]
  },
  {
   "cell_type": "markdown",
   "metadata": {},
   "source": [
    "### Importing Libraries"
   ]
  },
  {
   "cell_type": "code",
   "execution_count": 1,
   "metadata": {},
   "outputs": [],
   "source": [
    "import os\n",
    "\n",
    "import cv2\n",
    "import matplotlib.pyplot as plt\n",
    "import glob\n",
    "\n",
    "from darknet import darknet"
   ]
  },
  {
   "cell_type": "markdown",
   "metadata": {},
   "source": [
    "### Defining Directories"
   ]
  },
  {
   "cell_type": "code",
   "execution_count": 2,
   "metadata": {},
   "outputs": [],
   "source": [
    "project_dir = os.getcwd()\n",
    "darknet_dir = os.path.join(project_dir, 'darknet')"
   ]
  },
  {
   "cell_type": "markdown",
   "metadata": {},
   "source": [
    "### Loading YOLOv4 Network"
   ]
  },
  {
   "cell_type": "code",
   "execution_count": 3,
   "metadata": {},
   "outputs": [],
   "source": [
    "os.chdir(darknet_dir)\n",
    "network, class_names, class_colors = darknet.load_network(\n",
    "    'cfg/yolov4.cfg',\n",
    "    'cfg/coco.data',\n",
    "    'yolov4.weights'\n",
    ")"
   ]
  },
  {
   "cell_type": "markdown",
   "metadata": {},
   "source": [
    "### Loading Image for Detection"
   ]
  },
  {
   "cell_type": "code",
   "execution_count": 12,
   "metadata": {},
   "outputs": [
    {
     "data": {
      "text/plain": [
       "369664"
      ]
     },
     "execution_count": 12,
     "metadata": {},
     "output_type": "execute_result"
    }
   ],
   "source": [
    "image_location = 'data/dog.jpg'\n",
    "\n",
    "width = darknet.network_width(network)\n",
    "height = darknet.network_height(network)\n",
    "darknet_image = darknet.make_image(width, height, 3)\n",
    "\n",
    "image = cv2.imread(image_location)\n",
    "image_rgb = cv2.cvtColor(image, cv2.COLOR_BGR2RGB)\n",
    "image_resized = cv2.resize(image_rgb, (width, height), interpolation=cv2.INTER_LINEAR)\n",
    "darknet.copy_image_from_bytes(darknet_image, image_resized.tobytes())"
   ]
  },
  {
   "cell_type": "code",
   "execution_count": 13,
   "metadata": {},
   "outputs": [
    {
     "data": {
      "text/plain": [
       "1"
      ]
     },
     "execution_count": 13,
     "metadata": {},
     "output_type": "execute_result"
    }
   ],
   "source": [
    "detections = darknet.detect_image(network, class_names, darknet_image, thresh=0.35)\n",
    "darknet.free_image(darknet_image)"
   ]
  },
  {
   "cell_type": "code",
   "execution_count": 15,
   "metadata": {},
   "outputs": [
    {
     "name": "stdout",
     "output_type": "stream",
     "text": [
      "[('truck', '91.8', (454.57421875, 130.06637573242188, 174.901611328125, 98.58246612548828)), ('bicycle', '92.38', (271.9219970703125, 292.3072814941406, 362.61602783203125, 315.59527587890625)), ('dog', '97.91', (174.85946655273438, 404.4503173828125, 146.0295867919922, 333.9118347167969))]\n"
     ]
    }
   ],
   "source": [
    "print(detections)"
   ]
  },
  {
   "cell_type": "code",
   "execution_count": null,
   "metadata": {},
   "outputs": [],
   "source": [
    "image = darknet.draw_boxes(detections, image_resized, class_colors)\n",
    "cv2."
   ]
  }
 ],
 "metadata": {
  "kernelspec": {
   "display_name": "Python 3",
   "language": "python",
   "name": "python3"
  },
  "language_info": {
   "codemirror_mode": {
    "name": "ipython",
    "version": 3
   },
   "file_extension": ".py",
   "mimetype": "text/x-python",
   "name": "python",
   "nbconvert_exporter": "python",
   "pygments_lexer": "ipython3",
   "version": "3.8.5"
  }
 },
 "nbformat": 4,
 "nbformat_minor": 4
}
