{
  "nbformat": 4,
  "nbformat_minor": 0,
  "metadata": {
    "colab": {
      "name": "Digit Classification using Deep Learning with Python, Tensorflow and Keras (MNIST Dataset).ipynb",
      "provenance": [],
      "toc_visible": true
    },
    "kernelspec": {
      "name": "python3",
      "display_name": "Python 3"
    },
    "language_info": {
      "name": "python"
    }
  },
  "cells": [
    {
      "cell_type": "markdown",
      "metadata": {
        "id": "2LkI_PugxFja"
      },
      "source": [
        "# <center> **DIGIT CLASSIFICATION USING DEEP LEARNING WITH MNIST DATASET** </center>"
      ]
    },
    {
      "cell_type": "markdown",
      "metadata": {
        "id": "Zz1WhjiLyF5I"
      },
      "source": [
        "###Importing Libraries"
      ]
    },
    {
      "cell_type": "code",
      "metadata": {
        "id": "D9bDrolHyJXt"
      },
      "source": [
        "import tensorflow as tf\n",
        "import numpy as np\n",
        "import matplotlib.pyplot as plt\n",
        "\n",
        "%matplotlib inline"
      ],
      "execution_count": null,
      "outputs": []
    },
    {
      "cell_type": "markdown",
      "metadata": {
        "id": "CjeUcU4nyw8c"
      },
      "source": [
        "### Importing Dataset"
      ]
    },
    {
      "cell_type": "code",
      "metadata": {
        "id": "F3UiBGtEzegz"
      },
      "source": [
        "datasets = tf.keras.datasets.mnist\n",
        "(x_train, y_train), (x_test, y_test) = datasets.load_data()"
      ],
      "execution_count": null,
      "outputs": []
    },
    {
      "cell_type": "markdown",
      "metadata": {
        "id": "GhJDHCf_z1Bp"
      },
      "source": [
        "### Visualizing the Data"
      ]
    },
    {
      "cell_type": "code",
      "metadata": {
        "colab": {
          "base_uri": "https://localhost:8080/",
          "height": 133
        },
        "id": "FhYYqAXi0E3I",
        "outputId": "e2fb4a80-c3d6-43fb-e050-d811990ea90c"
      },
      "source": [
        "classes = list(set(y_train))\n",
        "\n",
        "f, ax = plt.subplots(1, len(classes), figsize=(20, 20))\n",
        "\n",
        "for label in classes:\n",
        "  image = x_train[y_train == label][0]\n",
        "  ax[label].imshow(image, cmap=plt.cm.binary)\n",
        "  ax[label].set_title(\"Label: {}\".format(label));\n",
        "\n",
        "plt.show()"
      ],
      "execution_count": null,
      "outputs": [
        {
          "output_type": "display_data",
          "data": {
            "image/png": "[encoded data removed]",
            "text/plain": [
              "<Figure size 1440x1440 with 10 Axes>"
            ]
          },
          "metadata": {
            "tags": [],
            "needs_background": "light"
          }
        }
      ]
    },
    {
      "cell_type": "markdown",
      "metadata": {
        "id": "fYbyH6vZ0M6D"
      },
      "source": [
        "### Normalizing The Data"
      ]
    },
    {
      "cell_type": "code",
      "metadata": {
        "id": "Lw6lc-9u871X",
        "colab": {
          "base_uri": "https://localhost:8080/"
        },
        "outputId": "41238e60-7b49-4e39-9d1e-7f031eef8a58"
      },
      "source": [
        "x_train = tf.keras.utils.normalize(x_train, axis=1)\n",
        "x_test = tf.keras.utils.normalize(x_test, axis=1)"
      ],
      "execution_count": null,
      "outputs": [
        {
          "output_type": "execute_result",
          "data": {
            "text/plain": [
              "(10000, 28, 28)"
            ]
          },
          "metadata": {
            "tags": []
          },
          "execution_count": 189
        }
      ]
    },
    {
      "cell_type": "markdown",
      "metadata": {
        "id": "fcDgj_Gj7ZF0"
      },
      "source": [
        "###Training The Network"
      ]
    },
    {
      "cell_type": "code",
      "metadata": {
        "colab": {
          "base_uri": "https://localhost:8080/"
        },
        "id": "vj-TulB-71HG",
        "outputId": "920ab189-955e-4cdd-8495-4c0b2e41e643"
      },
      "source": [
        "model = tf.keras.models.Sequential()\n",
        "\n",
        "model.add(tf.keras.layers.Flatten())\n",
        "model.add(tf.keras.layers.Dense(units=512, activation=tf.nn.relu))\n",
        "model.add(tf.keras.layers.Dense(units=512, activation=tf.nn.relu))\n",
        "model.add(tf.keras.layers.Dense(len(classes), activation=tf.nn.softmax))\n",
        "\n",
        "model.compile(optimizer='adam', loss='sparse_categorical_crossentropy', metrics=['accuracy'])\n",
        "\n",
        "model.fit(x_train, y_train, epochs=10)"
      ],
      "execution_count": null,
      "outputs": [
        {
          "output_type": "stream",
          "text": [
            "Epoch 1/10\n",
            "1875/1875 [==============================] - 15s 8ms/step - loss: 0.3500 - accuracy: 0.8931\n",
            "Epoch 2/10\n",
            "1875/1875 [==============================] - 15s 8ms/step - loss: 0.0820 - accuracy: 0.9736\n",
            "Epoch 3/10\n",
            "1875/1875 [==============================] - 15s 8ms/step - loss: 0.0505 - accuracy: 0.9834\n",
            "Epoch 4/10\n",
            "1875/1875 [==============================] - 15s 8ms/step - loss: 0.0378 - accuracy: 0.9878\n",
            "Epoch 5/10\n",
            "1875/1875 [==============================] - 15s 8ms/step - loss: 0.0275 - accuracy: 0.9910\n",
            "Epoch 6/10\n",
            "1875/1875 [==============================] - 15s 8ms/step - loss: 0.0240 - accuracy: 0.9924\n",
            "Epoch 7/10\n",
            "1875/1875 [==============================] - 15s 8ms/step - loss: 0.0181 - accuracy: 0.9942\n",
            "Epoch 8/10\n",
            "1875/1875 [==============================] - 15s 8ms/step - loss: 0.0168 - accuracy: 0.9949\n",
            "Epoch 9/10\n",
            "1875/1875 [==============================] - 15s 8ms/step - loss: 0.0144 - accuracy: 0.9955\n",
            "Epoch 10/10\n",
            "1875/1875 [==============================] - 15s 8ms/step - loss: 0.0115 - accuracy: 0.9962\n"
          ],
          "name": "stdout"
        },
        {
          "output_type": "execute_result",
          "data": {
            "text/plain": [
              "<tensorflow.python.keras.callbacks.History at 0x7f7d35faced0>"
            ]
          },
          "metadata": {
            "tags": []
          },
          "execution_count": 196
        }
      ]
    },
    {
      "cell_type": "markdown",
      "metadata": {
        "id": "V4lPJrq8_r2y"
      },
      "source": [
        "### Evaluating the Model"
      ]
    },
    {
      "cell_type": "code",
      "metadata": {
        "colab": {
          "base_uri": "https://localhost:8080/"
        },
        "id": "Dn9zOSVpBtFw",
        "outputId": "7e0b48b9-1c2e-4388-cc17-f0c80169ff7f"
      },
      "source": [
        "val_loss, val_acc = model.evaluate(x_test, y_test)\n",
        "print(\"Loss: {}, Accuracy: {}\".format(val_loss, val_acc))"
      ],
      "execution_count": null,
      "outputs": [
        {
          "output_type": "stream",
          "text": [
            "313/313 [==============================] - 1s 3ms/step - loss: 0.0806 - accuracy: 0.9747\n",
            "Loss: 0.08059008419513702, Accuracy: 0.9746999740600586\n"
          ],
          "name": "stdout"
        }
      ]
    },
    {
      "cell_type": "code",
      "metadata": {
        "id": "NiVl3mnSB9jP"
      },
      "source": [
        "predictions = model.predict(x_test)"
      ],
      "execution_count": null,
      "outputs": []
    },
    {
      "cell_type": "code",
      "metadata": {
        "colab": {
          "base_uri": "https://localhost:8080/",
          "height": 128
        },
        "id": "3ZW8IOcLxuzn",
        "outputId": "3a04164d-20e4-4d37-ba3c-b97a54a9e5d5"
      },
      "source": [
        "max_predictions = 10\n",
        "\n",
        "f, ax = plt.subplots(1, max_predictions, figsize=(20,20))\n",
        "\n",
        "for index in range(max_predictions):\n",
        "  ax[index].imshow(x_test[index], cmap=plt.cm.binary)\n",
        "  ax[index].set_title(\"True Label: {}\\nPredicted Label: {}\".format(y_test[index], np.argmax(predictions[index])));\n",
        "\n",
        "plt.tight_layout()\n",
        "plt.show()"
      ],
      "execution_count": null,
      "outputs": [
        {
          "output_type": "display_data",
          "data": {
            "image/png": "[encoded data removed]",
            "text/plain": [
              "<Figure size 1440x1440 with 10 Axes>"
            ]
          },
          "metadata": {
            "tags": [],
            "needs_background": "light"
          }
        }
      ]
    },
    {
      "cell_type": "code",
      "metadata": {
        "colab": {
          "base_uri": "https://localhost:8080/",
          "height": 282
        },
        "id": "VyrQzLehx96m",
        "outputId": "e5dd9585-4059-4280-dd72-245a1f357307"
      },
      "source": [
        "import cv2\n",
        "\n",
        "test_image = cv2.imread('one.jpg')\n",
        "test_resized = cv2.cvtColor(test_image, cv2.COLOR_BGR2GRAY)\n",
        "test_resized = cv2.resize(test_resized, (28, 28), interpolation=cv2.INTER_AREA)\n",
        "\n",
        "prepared_image = tf.keras.utils.normalize(test_resized, axis=1)\n",
        "prepared_image = np.array(prepared_image).reshape(1, 28, 28)\n",
        "predicted_output = model.predict(prepared_image)\n",
        "# np.argmax(predicted_output)\n",
        "# plt.imshow(prepared_image, cmap=plt.cm.binary)"
      ],
      "execution_count": null,
      "outputs": [
        {
          "output_type": "execute_result",
          "data": {
            "text/plain": [
              "<matplotlib.image.AxesImage at 0x7f7d4e26e2d0>"
            ]
          },
          "metadata": {
            "tags": []
          },
          "execution_count": 211
        },
        {
          "output_type": "display_data",
          "data": {
            "image/png": "[encoded data removed]",
            "text/plain": [
              "<Figure size 432x288 with 1 Axes>"
            ]
          },
          "metadata": {
            "tags": [],
            "needs_background": "light"
          }
        }
      ]
    },
    {
      "cell_type": "code",
      "metadata": {
        "id": "JCKmA4pu_X6d"
      },
      "source": [
        ""
      ],
      "execution_count": null,
      "outputs": []
    }
  ]
}